{
 "cells": [
  {
   "cell_type": "code",
   "execution_count": 1,
   "id": "bd282951",
   "metadata": {},
   "outputs": [],
   "source": [
    "from pathlib import Path\n",
    "Path(\"out/\").mkdir(parents=True, exist_ok=True)"
   ]
  },
  {
   "cell_type": "code",
   "execution_count": 26,
   "id": "1b9c56d0",
   "metadata": {},
   "outputs": [],
   "source": [
    "submission_id = 39400376\n",
    "score_path = \"scores/{}.txt\".format(submission_id)\n",
    "with open(score_path) as f:\n",
    "    score = f.readlines()\n",
    "    f.close()\n",
    "old_score = []\n",
    "for i in range(num):\n",
    "    old_score.append(int(score[i].replace(\"Seed_{}: \".format(str(i).zfill(4)), \"\")))"
   ]
  },
  {
   "cell_type": "code",
   "execution_count": 29,
   "id": "b8ab26e6",
   "metadata": {
    "scrolled": false
   },
   "outputs": [
    {
     "name": "stdout",
     "output_type": "stream",
     "text": [
      "Seed_0000:  1871266 (-1154)\n",
      "Seed_0001:  1999427 (-1047)\n",
      "Seed_0002:  2120994 (18194)\n",
      "Seed_0003:  1912516 (-19116)\n",
      "Seed_0004:  3593934 (-17941)\n",
      "Seed_0005:  2161577 (22881)\n",
      "Seed_0006:  2104184 (-20259)\n",
      "Seed_0007:  4012726 (8588)\n",
      "Seed_0008:  3211744 (-3257)\n",
      "Seed_0009:  2116340 (-16158)\n",
      "Seed_0010:  3059468 (27578)\n",
      "Seed_0011:  1722699 (25237)\n",
      "Seed_0012:  2169071 (27892)\n",
      "Seed_0013:  2706094 (-11621)\n",
      "Seed_0014:  1488225 (21072)\n",
      "Seed_0015:  3586281 (4369)\n",
      "Seed_0016:  2776574 (-37473)\n",
      "Seed_0017:  1516061 (-34991)\n",
      "Seed_0018:  2104106 (-25664)\n",
      "Seed_0019:  2691930 (-23037)\n",
      "Seed_0020:  2446401 (-544)\n",
      "Seed_0021:  2510758 (-14538)\n",
      "Seed_0022:  2839752 (-9229)\n",
      "Seed_0023:  3447364 (-4416)\n",
      "Seed_0024:  2054737 (30387)\n",
      "Seed_0025:  2353360 (-1323)\n",
      "Seed_0026:  1026798 (20226)\n",
      "Seed_0027:  2410295 (-28279)\n",
      "Seed_0028:  3215268 (3910)\n",
      "Seed_0029:  2758581 (-15402)\n",
      "Seed_0030:  3268768 (4005)\n",
      "Seed_0031:  3053424 (-10239)\n",
      "Seed_0032:  2905017 (-22555)\n",
      "Seed_0033:  1133685 (-4245)\n",
      "Seed_0034:  3449347 (-12153)\n",
      "Seed_0035:  2049849 (20743)\n",
      "Seed_0036:  2756631 (2670)\n",
      "Seed_0037:  1669640 (26297)\n",
      "Seed_0038:  1167109 (-23721)\n",
      "Seed_0039:  3501144 (9508)\n",
      "Seed_0040:  1890875 (8496)\n",
      "Seed_0041:  2266232 (-10333)\n",
      "Seed_0042:  3400774 (-7427)\n",
      "Seed_0043:  1719205 (467)\n",
      "Seed_0044:  2414405 (7135)\n",
      "Seed_0045:  3784002 (-5575)\n",
      "Seed_0046:  2988438 (18218)\n",
      "Seed_0047:  2940689 (11332)\n",
      "Seed_0048:  1531058 (12540)\n",
      "Seed_0049:  2077279 (-28633)\n",
      "Score: 123956102\n"
     ]
    }
   ],
   "source": [
    "num = 50\n",
    "sum = 0\n",
    "ans_list = []\n",
    "\n",
    "for i in range(num):\n",
    "    in_path = \"in/{}.txt\".format(str(i).zfill(4))\n",
    "    out_path = \"out/{}.txt\".format(str(i).zfill(4))\n",
    "    ans = !(export SDKROOT=\"$(xcrun --sdk macosx --show-sdk-path)\" && g++ main.cpp && ./a.out < $in_path > $out_path)\n",
    "    print(\"Seed_{}: \".format(str(i).zfill(4)) + \" \"*(8-len(ans[0])) + ans[0] + \" ({})\".format(int(ans[0]) - old_score[i]))\n",
    "    ans_list.append(int(ans[0]))\n",
    "    sum += int(ans[0])\n",
    "print(\"Score: \" + str(sum))"
   ]
  },
  {
   "cell_type": "code",
   "execution_count": null,
   "id": "128afd94",
   "metadata": {},
   "outputs": [],
   "source": [
    "def exec(num):\n",
    "    in_path  = \"in/{}.txt\".format(str(num).zfill(4))\n",
    "    out_path = \"out/{}.txt\".format(str(num).zfill(4))\n",
    "    !(python tester.py $in_path $out_path)"
   ]
  },
  {
   "cell_type": "code",
   "execution_count": null,
   "id": "38378dee",
   "metadata": {},
   "outputs": [],
   "source": [
    "exec(0)"
   ]
  },
  {
   "cell_type": "code",
   "execution_count": 24,
   "id": "47f7fa4c",
   "metadata": {},
   "outputs": [
    {
     "name": "stdout",
     "output_type": "stream",
     "text": [
      "Seed_0000:  1872420\n",
      "Seed_0001:  2000474\n",
      "Seed_0002:  2102800\n",
      "Seed_0003:  1931632\n",
      "Seed_0004:  3611875\n",
      "Seed_0005:  2138696\n",
      "Seed_0006:  2124443\n",
      "Seed_0007:  4004138\n",
      "Seed_0008:  3215001\n",
      "Seed_0009:  2132498\n",
      "Seed_0010:  3031890\n",
      "Seed_0011:  1697462\n",
      "Seed_0012:  2141179\n",
      "Seed_0013:  2717715\n",
      "Seed_0014:  1467153\n",
      "Seed_0015:  3581912\n",
      "Seed_0016:  2814047\n",
      "Seed_0017:  1551052\n",
      "Seed_0018:  2129770\n",
      "Seed_0019:  2714967\n",
      "Seed_0020:  2446945\n",
      "Seed_0021:  2525296\n",
      "Seed_0022:  2848981\n",
      "Seed_0023:  3451780\n",
      "Seed_0024:  2024350\n",
      "Seed_0025:  2354683\n",
      "Seed_0026:  1006572\n",
      "Seed_0027:  2438574\n",
      "Seed_0028:  3211358\n",
      "Seed_0029:  2773983\n",
      "Seed_0030:  3264763\n",
      "Seed_0031:  3063663\n",
      "Seed_0032:  2927572\n",
      "Seed_0033:  1137930\n",
      "Seed_0034:  3461500\n",
      "Seed_0035:  2029106\n",
      "Seed_0036:  2753961\n",
      "Seed_0037:  1643343\n",
      "Seed_0038:  1190830\n",
      "Seed_0039:  3491636\n",
      "Seed_0040:  1882379\n",
      "Seed_0041:  2276565\n",
      "Seed_0042:  3408201\n",
      "Seed_0043:  1718738\n",
      "Seed_0044:  2407270\n",
      "Seed_0045:  3789577\n",
      "Seed_0046:  2970220\n",
      "Seed_0047:  2929357\n",
      "Seed_0048:  1518518\n",
      "Seed_0049:  2105912\n",
      "Score: 124034687\n"
     ]
    }
   ],
   "source": [
    "score = 0\n",
    "for i in range(len(ans_list)):\n",
    "    ans = ans_list[i]\n",
    "    score += ans\n",
    "    print(\"Seed_{}: \".format(str(i).zfill(4)) + \" \"*(8-len(str(ans))) + str(ans))\n",
    "print(\"Score: {}\".format(str(score)))"
   ]
  },
  {
   "cell_type": "code",
   "execution_count": 30,
   "id": "c4e01177",
   "metadata": {},
   "outputs": [
    {
     "name": "stdout",
     "output_type": "stream",
     "text": [
      "Collecting optuna\n",
      "  Downloading optuna-3.1.0-py3-none-any.whl (365 kB)\n",
      "\u001b[K     |████████████████████████████████| 365 kB 1.6 MB/s eta 0:00:01\n",
      "\u001b[?25hRequirement already satisfied: numpy in /opt/anaconda3/lib/python3.8/site-packages (from optuna) (1.20.1)\n",
      "Collecting cmaes>=0.9.1\n",
      "  Downloading cmaes-0.9.1-py3-none-any.whl (21 kB)\n",
      "Requirement already satisfied: tqdm in /opt/anaconda3/lib/python3.8/site-packages (from optuna) (4.59.0)\n",
      "Requirement already satisfied: PyYAML in /opt/anaconda3/lib/python3.8/site-packages (from optuna) (5.4.1)\n",
      "Collecting alembic>=1.5.0\n",
      "  Downloading alembic-1.9.4-py3-none-any.whl (210 kB)\n",
      "\u001b[K     |████████████████████████████████| 210 kB 5.8 MB/s eta 0:00:01\n",
      "\u001b[?25hRequirement already satisfied: packaging>=20.0 in /opt/anaconda3/lib/python3.8/site-packages (from optuna) (20.9)\n",
      "Requirement already satisfied: sqlalchemy>=1.3.0 in /opt/anaconda3/lib/python3.8/site-packages (from optuna) (1.4.7)\n",
      "Requirement already satisfied: colorlog in /opt/anaconda3/lib/python3.8/site-packages (from optuna) (6.7.0)\n",
      "Collecting importlib-resources\n",
      "  Downloading importlib_resources-5.12.0-py3-none-any.whl (36 kB)\n",
      "Collecting Mako\n",
      "  Downloading Mako-1.2.4-py3-none-any.whl (78 kB)\n",
      "\u001b[K     |████████████████████████████████| 78 kB 7.0 MB/s eta 0:00:011\n",
      "\u001b[?25hRequirement already satisfied: importlib-metadata in /opt/anaconda3/lib/python3.8/site-packages (from alembic>=1.5.0->optuna) (3.10.0)\n",
      "Requirement already satisfied: pyparsing>=2.0.2 in /opt/anaconda3/lib/python3.8/site-packages (from packaging>=20.0->optuna) (2.4.7)\n",
      "Requirement already satisfied: greenlet!=0.4.17 in /opt/anaconda3/lib/python3.8/site-packages (from sqlalchemy>=1.3.0->optuna) (1.0.0)\n",
      "Requirement already satisfied: zipp>=0.5 in /opt/anaconda3/lib/python3.8/site-packages (from importlib-metadata->alembic>=1.5.0->optuna) (3.4.1)\n",
      "Requirement already satisfied: MarkupSafe>=0.9.2 in /opt/anaconda3/lib/python3.8/site-packages (from Mako->alembic>=1.5.0->optuna) (2.1.1)\n",
      "Installing collected packages: Mako, importlib-resources, cmaes, alembic, optuna\n",
      "Successfully installed Mako-1.2.4 alembic-1.9.4 cmaes-0.9.1 importlib-resources-5.12.0 optuna-3.1.0\n"
     ]
    }
   ],
   "source": [
    "!pip install optuna"
   ]
  },
  {
   "cell_type": "code",
   "execution_count": null,
   "id": "071eeb01",
   "metadata": {},
   "outputs": [],
   "source": [
    "import optuna\n",
    "import matplotlib.pyplot as plt\n",
    "\n",
    "# 目的関数を設定(今回はx^2+y^2+z^2)\n",
    "def objective(trial):\n",
    "    # 最適化するパラメータを設定\n",
    "    param = {\n",
    "        'x': trial.suggest_int('x', -100, 100),\n",
    "        'y': trial.suggest_int('y', -100, 100),\n",
    "        'z': trial.suggest_int('z', -100, 100)\n",
    "    }\n",
    "    # 評価値を返す(デフォルトで最小化するようになっている)\n",
    "    return param['x'] ** 2 + param['y'] ** 2 + param['z'] ** 2\n",
    "\n",
    "if __name__ == '__main__':\n",
    "    # studyオブジェクト生成\n",
    "    study = optuna.create_study()\n",
    "    # 最適化実行\n",
    "    study.optimize(objective, n_trials=500)\n",
    "\n",
    "    epoches = []    # 試行回数格納用\n",
    "    values = []    # best_value格納用\n",
    "    best = 100000    # 適当に最大値を格納しておく\n",
    "    # best更新を行う\n",
    "    for i in study.trials:\n",
    "        if best > i.value:\n",
    "            best = i.value\n",
    "        epoches.append(i.number+1)\n",
    "        values.append(best)\n",
    "\n",
    "    # グラフ設定等\n",
    "    plt.plot(epoches, values, color=\"red\")\n",
    "    plt.title(\"optuna\")\n",
    "    plt.xlabel(\"trial\")\n",
    "    plt.ylabel(\"value\")\n",
    "    plt.show()"
   ]
  },
  {
   "cell_type": "code",
   "execution_count": null,
   "id": "ec9245e6",
   "metadata": {},
   "outputs": [],
   "source": []
  }
 ],
 "metadata": {
  "kernelspec": {
   "display_name": "Python 3",
   "language": "python",
   "name": "python3"
  },
  "language_info": {
   "codemirror_mode": {
    "name": "ipython",
    "version": 3
   },
   "file_extension": ".py",
   "mimetype": "text/x-python",
   "name": "python",
   "nbconvert_exporter": "python",
   "pygments_lexer": "ipython3",
   "version": "3.8.8"
  }
 },
 "nbformat": 4,
 "nbformat_minor": 5
}
