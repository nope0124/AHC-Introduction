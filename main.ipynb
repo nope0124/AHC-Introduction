{
 "cells": [
  {
   "cell_type": "code",
   "execution_count": 1,
   "id": "bd282951",
   "metadata": {},
   "outputs": [],
   "source": [
    "from pathlib import Path\n",
    "Path(\"out/\").mkdir(parents=True, exist_ok=True)"
   ]
  },
  {
   "cell_type": "code",
   "execution_count": 4,
   "id": "1b9c56d0",
   "metadata": {},
   "outputs": [
    {
     "ename": "FileNotFoundError",
     "evalue": "[Errno 2] No such file or directory: 'scores/39101547.txt'",
     "output_type": "error",
     "traceback": [
      "\u001b[0;31m---------------------------------------------------------------------------\u001b[0m",
      "\u001b[0;31mFileNotFoundError\u001b[0m                         Traceback (most recent call last)",
      "\u001b[0;32m<ipython-input-4-78f38dfb2bbb>\u001b[0m in \u001b[0;36m<module>\u001b[0;34m\u001b[0m\n\u001b[1;32m      1\u001b[0m \u001b[0msubmission_id\u001b[0m \u001b[0;34m=\u001b[0m \u001b[0;36m39101547\u001b[0m\u001b[0;34m\u001b[0m\u001b[0;34m\u001b[0m\u001b[0m\n\u001b[1;32m      2\u001b[0m \u001b[0mscore_path\u001b[0m \u001b[0;34m=\u001b[0m \u001b[0;34m\"scores/{}.txt\"\u001b[0m\u001b[0;34m.\u001b[0m\u001b[0mformat\u001b[0m\u001b[0;34m(\u001b[0m\u001b[0msubmission_id\u001b[0m\u001b[0;34m)\u001b[0m\u001b[0;34m\u001b[0m\u001b[0;34m\u001b[0m\u001b[0m\n\u001b[0;32m----> 3\u001b[0;31m \u001b[0;32mwith\u001b[0m \u001b[0mopen\u001b[0m\u001b[0;34m(\u001b[0m\u001b[0mscore_path\u001b[0m\u001b[0;34m)\u001b[0m \u001b[0;32mas\u001b[0m \u001b[0mf\u001b[0m\u001b[0;34m:\u001b[0m\u001b[0;34m\u001b[0m\u001b[0;34m\u001b[0m\u001b[0m\n\u001b[0m\u001b[1;32m      4\u001b[0m     \u001b[0mscore\u001b[0m \u001b[0;34m=\u001b[0m \u001b[0mf\u001b[0m\u001b[0;34m.\u001b[0m\u001b[0mreadlines\u001b[0m\u001b[0;34m(\u001b[0m\u001b[0;34m)\u001b[0m\u001b[0;34m\u001b[0m\u001b[0;34m\u001b[0m\u001b[0m\n\u001b[1;32m      5\u001b[0m     \u001b[0mf\u001b[0m\u001b[0;34m.\u001b[0m\u001b[0mclose\u001b[0m\u001b[0;34m(\u001b[0m\u001b[0;34m)\u001b[0m\u001b[0;34m\u001b[0m\u001b[0;34m\u001b[0m\u001b[0m\n",
      "\u001b[0;31mFileNotFoundError\u001b[0m: [Errno 2] No such file or directory: 'scores/39101547.txt'"
     ]
    }
   ],
   "source": [
    "submission_id = 39101547\n",
    "score_path = \"scores/{}.txt\".format(submission_id)\n",
    "with open(score_path) as f:\n",
    "    score = f.readlines()\n",
    "    f.close()\n",
    "old_score = []\n",
    "for i in range(num):\n",
    "    old_score.append(int(score[i].replace(\"Seed_{}: \".format(str(i).zfill(4)), \"\")))"
   ]
  },
  {
   "cell_type": "code",
   "execution_count": 22,
   "id": "b8ab26e6",
   "metadata": {},
   "outputs": [
    {
     "name": "stdout",
     "output_type": "stream",
     "text": [
      "Seed_0000:   849443\n",
      "Seed_0001:   945018\n",
      "Seed_0002:  1204060\n",
      "Seed_0003:   946632\n",
      "Seed_0004:  2931933\n",
      "Seed_0005:  1097301\n",
      "Seed_0006:  1228794\n",
      "Seed_0007:  3492026\n",
      "Seed_0008:  2426066\n",
      "Seed_0009:  1279171\n",
      "Seed_0010:  2357271\n",
      "Seed_0011:   653662\n",
      "Seed_0012:  1159622\n",
      "Seed_0013:  1793631\n",
      "Seed_0014:   437897\n",
      "Seed_0015:  2928776\n",
      "Seed_0016:  1973622\n",
      "Seed_0017:   439984\n",
      "Seed_0018:  1144997\n",
      "Seed_0019:  1880579\n",
      "Seed_0020:  1516011\n",
      "Seed_0021:  1675832\n",
      "Seed_0022:  2033141\n",
      "Seed_0023:  2717569\n",
      "Seed_0024:  1096629\n",
      "Seed_0025:  1451107\n",
      "Seed_0026:   -63561\n",
      "Seed_0027:  1414124\n",
      "Seed_0028:  2459462\n",
      "Seed_0029:  1901804\n",
      "Seed_0030:  2487680\n",
      "Seed_0031:  2150005\n",
      "Seed_0032:  1990151\n",
      "Seed_0033:   -44988\n",
      "Seed_0034:  2709627\n",
      "Seed_0035:   977691\n",
      "Seed_0036:  1902810\n",
      "Seed_0037:   721197\n",
      "Seed_0038:   149919\n",
      "Seed_0039:  2736284\n",
      "Seed_0040:   977992\n",
      "Seed_0041:  1361441\n",
      "Seed_0042:  2814705\n",
      "Seed_0043:   733448\n",
      "Seed_0044:  1330876\n",
      "Seed_0045:  3056768\n",
      "Seed_0046:  2272762\n",
      "Seed_0047:  2152777\n",
      "Seed_0048:   386489\n",
      "Seed_0049:  1091506\n",
      "Score: 79331743\n"
     ]
    }
   ],
   "source": [
    "num = 50\n",
    "sum = 0\n",
    "ans_list = []\n",
    "for i in range(num):\n",
    "    in_path = \"in/{}.txt\".format(str(i).zfill(4))\n",
    "    out_path = \"out/{}.txt\".format(str(i).zfill(4))\n",
    "    ans = !(export SDKROOT=\"$(xcrun --sdk macosx --show-sdk-path)\" && g++ main.cpp && ./a.out < $in_path > $out_path)\n",
    "    print(\"Seed_{}: \".format(str(i).zfill(4)) + \" \"*(8-len(ans[0])) + ans[0])\n",
    "    sum += int(ans[0])\n",
    "    ans_list.append(int(ans[0]))\n",
    "print(\"Score: \" + str(sum))"
   ]
  },
  {
   "cell_type": "code",
   "execution_count": 7,
   "id": "128afd94",
   "metadata": {},
   "outputs": [],
   "source": [
    "def exec(num):\n",
    "    in_path  = \"in/{}.txt\".format(str(num).zfill(4))\n",
    "    out_path = \"out/{}.txt\".format(str(num).zfill(4))\n",
    "    !(python tester.py $in_path $out_path)"
   ]
  },
  {
   "cell_type": "code",
   "execution_count": 19,
   "id": "38378dee",
   "metadata": {},
   "outputs": [
    {
     "name": "stdout",
     "output_type": "stream",
     "text": [
      "satisfaction: -458054\r\n",
      "score: 541946\r\n"
     ]
    }
   ],
   "source": [
    "exec(0)"
   ]
  },
  {
   "cell_type": "code",
   "execution_count": null,
   "id": "47f7fa4c",
   "metadata": {},
   "outputs": [],
   "source": []
  },
  {
   "cell_type": "code",
   "execution_count": null,
   "id": "c4e01177",
   "metadata": {},
   "outputs": [],
   "source": []
  }
 ],
 "metadata": {
  "kernelspec": {
   "display_name": "Python 3",
   "language": "python",
   "name": "python3"
  },
  "language_info": {
   "codemirror_mode": {
    "name": "ipython",
    "version": 3
   },
   "file_extension": ".py",
   "mimetype": "text/x-python",
   "name": "python",
   "nbconvert_exporter": "python",
   "pygments_lexer": "ipython3",
   "version": "3.8.8"
  }
 },
 "nbformat": 4,
 "nbformat_minor": 5
}
