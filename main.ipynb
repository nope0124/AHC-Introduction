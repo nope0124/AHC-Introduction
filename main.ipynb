{
 "cells": [
  {
   "cell_type": "code",
   "execution_count": 1,
   "id": "bd282951",
   "metadata": {},
   "outputs": [],
   "source": [
    "from pathlib import Path\n",
    "Path(\"out/\").mkdir(parents=True, exist_ok=True)"
   ]
  },
  {
   "cell_type": "code",
   "execution_count": 4,
   "id": "1b9c56d0",
   "metadata": {},
   "outputs": [
    {
     "ename": "FileNotFoundError",
     "evalue": "[Errno 2] No such file or directory: 'scores/39101547.txt'",
     "output_type": "error",
     "traceback": [
      "\u001b[0;31m---------------------------------------------------------------------------\u001b[0m",
      "\u001b[0;31mFileNotFoundError\u001b[0m                         Traceback (most recent call last)",
      "\u001b[0;32m<ipython-input-4-78f38dfb2bbb>\u001b[0m in \u001b[0;36m<module>\u001b[0;34m\u001b[0m\n\u001b[1;32m      1\u001b[0m \u001b[0msubmission_id\u001b[0m \u001b[0;34m=\u001b[0m \u001b[0;36m39101547\u001b[0m\u001b[0;34m\u001b[0m\u001b[0;34m\u001b[0m\u001b[0m\n\u001b[1;32m      2\u001b[0m \u001b[0mscore_path\u001b[0m \u001b[0;34m=\u001b[0m \u001b[0;34m\"scores/{}.txt\"\u001b[0m\u001b[0;34m.\u001b[0m\u001b[0mformat\u001b[0m\u001b[0;34m(\u001b[0m\u001b[0msubmission_id\u001b[0m\u001b[0;34m)\u001b[0m\u001b[0;34m\u001b[0m\u001b[0;34m\u001b[0m\u001b[0m\n\u001b[0;32m----> 3\u001b[0;31m \u001b[0;32mwith\u001b[0m \u001b[0mopen\u001b[0m\u001b[0;34m(\u001b[0m\u001b[0mscore_path\u001b[0m\u001b[0;34m)\u001b[0m \u001b[0;32mas\u001b[0m \u001b[0mf\u001b[0m\u001b[0;34m:\u001b[0m\u001b[0;34m\u001b[0m\u001b[0;34m\u001b[0m\u001b[0m\n\u001b[0m\u001b[1;32m      4\u001b[0m     \u001b[0mscore\u001b[0m \u001b[0;34m=\u001b[0m \u001b[0mf\u001b[0m\u001b[0;34m.\u001b[0m\u001b[0mreadlines\u001b[0m\u001b[0;34m(\u001b[0m\u001b[0;34m)\u001b[0m\u001b[0;34m\u001b[0m\u001b[0;34m\u001b[0m\u001b[0m\n\u001b[1;32m      5\u001b[0m     \u001b[0mf\u001b[0m\u001b[0;34m.\u001b[0m\u001b[0mclose\u001b[0m\u001b[0;34m(\u001b[0m\u001b[0;34m)\u001b[0m\u001b[0;34m\u001b[0m\u001b[0;34m\u001b[0m\u001b[0m\n",
      "\u001b[0;31mFileNotFoundError\u001b[0m: [Errno 2] No such file or directory: 'scores/39101547.txt'"
     ]
    }
   ],
   "source": [
    "submission_id = 39101547\n",
    "score_path = \"scores/{}.txt\".format(submission_id)\n",
    "with open(score_path) as f:\n",
    "    score = f.readlines()\n",
    "    f.close()\n",
    "old_score = []\n",
    "for i in range(num):\n",
    "    old_score.append(int(score[i].replace(\"Seed_{}: \".format(str(i).zfill(4)), \"\")))"
   ]
  },
  {
   "cell_type": "code",
   "execution_count": 1,
   "id": "b8ab26e6",
   "metadata": {},
   "outputs": [
    {
     "name": "stdout",
     "output_type": "stream",
     "text": [
      "Seed_0000:  1221581\n",
      "Seed_0001:  1341814\n",
      "Seed_0002:  1512396\n",
      "Seed_0003:  1398607\n",
      "Seed_0004:  3225264\n",
      "Seed_0005:  1544157\n",
      "Seed_0006:  1400940\n",
      "Seed_0007:  3687363\n",
      "Seed_0008:  2730601\n",
      "Seed_0009:  1377466\n",
      "Seed_0010:  2516995\n",
      "Seed_0011:  1164426\n",
      "Seed_0012:  1437356\n",
      "Seed_0013:  2193125\n",
      "Seed_0014:   719676\n",
      "Seed_0015:  3085356\n",
      "Seed_0016:  2246781\n",
      "Seed_0017:   775054\n",
      "Seed_0018:  1582141\n",
      "Seed_0019:  2183541\n",
      "Seed_0020:  1866997\n",
      "Seed_0021:  1959352\n",
      "Seed_0022:  2334682\n",
      "Seed_0023:  2937536\n",
      "Seed_0024:  1369177\n",
      "Seed_0025:  1761101\n",
      "Seed_0026:   154331\n",
      "Seed_0027:  1855772\n",
      "Seed_0028:  2722344\n",
      "Seed_0029:  2236320\n",
      "Seed_0030:  2834502\n",
      "Seed_0031:  2612276\n",
      "Seed_0032:  2339702\n",
      "Seed_0033:   460466\n",
      "Seed_0034:  2890017\n",
      "Seed_0035:  1348370\n",
      "Seed_0036:  2160235\n",
      "Seed_0037:  1069901\n",
      "Seed_0038:   475928\n",
      "Seed_0039:  2964454\n",
      "Seed_0040:  1087271\n",
      "Seed_0041:  1670080\n",
      "Seed_0042:  2940512\n",
      "Seed_0043:  1115532\n",
      "Seed_0044:  1737420\n",
      "Seed_0045:  3422101\n",
      "Seed_0046:  2453408\n",
      "Seed_0047:  2389135\n",
      "Seed_0048:   874715\n",
      "Seed_0049:  1369854\n",
      "Score: 94758131\n"
     ]
    }
   ],
   "source": [
    "num = 50\n",
    "sum = 0\n",
    "ans_list = []\n",
    "for i in range(num):\n",
    "    in_path = \"in/{}.txt\".format(str(i).zfill(4))\n",
    "    out_path = \"out/{}.txt\".format(str(i).zfill(4))\n",
    "    ans = !(export SDKROOT=\"$(xcrun --sdk macosx --show-sdk-path)\" && g++ main.cpp && ./a.out < $in_path > $out_path)\n",
    "    print(\"Seed_{}: \".format(str(i).zfill(4)) + \" \"*(8-len(ans[0])) + ans[0])\n",
    "    sum += int(ans[0])\n",
    "    ans_list.append(int(ans[0]))\n",
    "print(\"Score: \" + str(sum))"
   ]
  },
  {
   "cell_type": "code",
   "execution_count": 2,
   "id": "128afd94",
   "metadata": {},
   "outputs": [],
   "source": [
    "def exec(num):\n",
    "    in_path  = \"in/{}.txt\".format(str(num).zfill(4))\n",
    "    out_path = \"out/{}.txt\".format(str(num).zfill(4))\n",
    "    !(python tester.py $in_path $out_path)"
   ]
  },
  {
   "cell_type": "code",
   "execution_count": 3,
   "id": "38378dee",
   "metadata": {},
   "outputs": [
    {
     "name": "stdout",
     "output_type": "stream",
     "text": [
      "satisfaction: 221581\r\n",
      "score: 1221581\r\n"
     ]
    }
   ],
   "source": [
    "exec(0)"
   ]
  },
  {
   "cell_type": "code",
   "execution_count": null,
   "id": "47f7fa4c",
   "metadata": {},
   "outputs": [],
   "source": []
  },
  {
   "cell_type": "code",
   "execution_count": null,
   "id": "c4e01177",
   "metadata": {},
   "outputs": [],
   "source": []
  }
 ],
 "metadata": {
  "kernelspec": {
   "display_name": "Python 3",
   "language": "python",
   "name": "python3"
  },
  "language_info": {
   "codemirror_mode": {
    "name": "ipython",
    "version": 3
   },
   "file_extension": ".py",
   "mimetype": "text/x-python",
   "name": "python",
   "nbconvert_exporter": "python",
   "pygments_lexer": "ipython3",
   "version": "3.8.8"
  }
 },
 "nbformat": 4,
 "nbformat_minor": 5
}
